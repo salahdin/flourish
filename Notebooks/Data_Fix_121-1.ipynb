{
 "cells": [
  {
   "cell_type": "code",
   "execution_count": null,
   "outputs": [],
   "source": [
    "import os, sys\n",
    "import django\n",
    "from datetime import datetime\n",
    "sys.path.append('../..') # add path to project root dir\n",
    "os.environ[\"DJANGO_SETTINGS_MODULE\"] = \"flourish.settings\"\n",
    "from django.apps import apps as django_apps\n",
    "os.environ[\"DJANGO_ALLOW_ASYNC_UNSAFE\"] = \"true\"\n",
    "from django.apps import apps as django_apps\n",
    "\n",
    "django.setup()"
   ],
   "metadata": {
    "collapsed": false
   }
  },
  {
   "cell_type": "markdown",
   "source": [
    "redmine ticket 6945\n",
    "Change subject last name and initials"
   ],
   "metadata": {
    "collapsed": false
   }
  },
  {
   "cell_type": "code",
   "execution_count": null,
   "outputs": [],
   "source": [
    "from flourish_caregiver.models import SubjectConsent, MaternalDataset, CaregiverLocator\n",
    "from edc_registration.models import RegisteredSubject\n",
    "\n",
    "subject_id = 'B142-040990121-1'\n",
    "last_name = 'OABILE'\n",
    "initials = 'GPO'\n",
    "\n",
    "for model_class in [SubjectConsent, MaternalDataset, CaregiverLocator, RegisteredSubject]:\n",
    "    consent_objs = model_class.objects.filter(subject_identifier=subject_id)\n",
    "    for instance in consent_objs:\n",
    "        instance.last_name = last_name\n",
    "        if model_class in [SubjectConsent,RegisteredSubject] :\n",
    "            instance.initials = initials\n",
    "            print(model_class, instance.initials)\n",
    "        print(model_class, instance.last_name)\n",
    "        instance.save()"
   ],
   "metadata": {
    "collapsed": false
   }
  }
 ],
 "metadata": {
  "kernelspec": {
   "display_name": "Python 3",
   "language": "python",
   "name": "python3"
  },
  "language_info": {
   "codemirror_mode": {
    "name": "ipython",
    "version": 2
   },
   "file_extension": ".py",
   "mimetype": "text/x-python",
   "name": "python",
   "nbconvert_exporter": "python",
   "pygments_lexer": "ipython2",
   "version": "2.7.6"
  }
 },
 "nbformat": 4,
 "nbformat_minor": 0
}
