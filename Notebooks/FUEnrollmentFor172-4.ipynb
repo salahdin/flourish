{
 "cells": [
  {
   "cell_type": "code",
   "execution_count": 20,
   "id": "64ea3693",
   "metadata": {},
   "outputs": [],
   "source": [
    "import os \n",
    "os.environ[\"DJANGO_ALLOW_ASYNC_UNSAFE\"] = \"true\"\n"
   ]
  },
  {
   "cell_type": "code",
   "execution_count": 26,
   "id": "43b1e38b",
   "metadata": {},
   "outputs": [],
   "source": [
    "from flourish_child.helper_classes.child_fu_onschedule_helper import ChildFollowUpEnrolmentHelper\n",
    "from flourish_child.models import Appointment as ChildAppointment\n",
    "from edc_appointment.models import Appointment as CaregiverAppointment\n",
    "from edc_base.utils import get_utcnow\n",
    "from edc_visit_schedule.site_visit_schedules import site_visit_schedules\n",
    "from django.db import IntegrityError"
   ]
  },
  {
   "cell_type": "code",
   "execution_count": 28,
   "id": "548239d2",
   "metadata": {},
   "outputs": [],
   "source": [
    "child_subject_identifier = 'B142-040990172-4-10'\n",
    "child_visit_code = '2006'\n",
    "child_schedule_name = 'child_c_fu_schedule1'\n",
    "child_onschedule_model_cls = 'flourish_child.onschedulechildcohortcfu'\n",
    "\n",
    "\n",
    "\n",
    "_, new_schedule = site_visit_schedules.get_by_onschedule_model_schedule_name(\n",
    "    name=child_schedule_name,\n",
    "    onschedule_model=child_onschedule_model_cls)\n",
    "\n",
    "\n",
    "new_schedule.put_on_schedule(\n",
    "            subject_identifier=child_subject_identifier,\n",
    "            schedule_name=child_schedule_name)\n",
    "\n",
    "\n",
    "\n",
    "\n",
    "child_appointment = ChildAppointment.objects.get(\n",
    "    subject_identifier=child_subject_identifier,\n",
    "    visit_code = child_visit_code)\n",
    "\n",
    "try:\n",
    "\n",
    "    ChildOffSchedule.objects.create(\n",
    "                        subject_identifier=child_appointment.subject_identifier,\n",
    "                        schedule_name=child_appointment.schedule_name,\n",
    "                        offschedule_datetime=get_utcnow())\n",
    "except (ChildOffSchedule.DoesNotExist, IntegrityError):\n",
    "    pass\n",
    "\n"
   ]
  },
  {
   "cell_type": "code",
   "execution_count": 29,
   "id": "d3369afb",
   "metadata": {},
   "outputs": [],
   "source": [
    "subject_identifier = 'B142-040990172-4'\n",
    "visit_code = '2006M'\n",
    "schedule_name = 'c_fu1_schedule1'\n",
    "onschedule_model_cls = 'flourish_caregiver.onschedulecohortcfu'\n",
    "\n",
    "\n",
    "\n",
    "_, new_schedule = site_visit_schedules.get_by_onschedule_model_schedule_name(\n",
    "    name=schedule_name,\n",
    "    onschedule_model=onschedule_model_cls)\n",
    "\n",
    "\n",
    "new_schedule.put_on_schedule(\n",
    "            subject_identifier=subject_identifier,\n",
    "            schedule_name=schedule_name)\n",
    "\n",
    "caregiver_appointments = CaregiverAppointment.objects.filter(\n",
    "    subject_identifier=subject_identifier,\n",
    "    visit_code__in = [f\"20{str(index).zfill(2)}M\" for index in range(7, 17)]\n",
    ")\n",
    "\n",
    "\n",
    "caregiver_appointment = CaregiverAppointment.objects.get(\n",
    "    subject_identifier=subject_identifier,\n",
    "    visit_schedule_name = 'c1_visit_schedule1',\n",
    "    visit_code = visit_code)\n",
    "\n",
    "try:\n",
    "    CaregiverOffSchedule.objects.create(\n",
    "                        subject_identifier=caregiver_appointment.subject_identifier,\n",
    "                        schedule_name=caregiver_appointment.schedule_name,\n",
    "                        offschedule_datetime=get_utcnow())\n",
    "except (CaregiverOffSchedule.DoesNotExist, IntegrityError):\n",
    "    pass"
   ]
  },
  {
   "cell_type": "code",
   "execution_count": null,
   "id": "05ff377b",
   "metadata": {},
   "outputs": [],
   "source": [
    "\n"
   ]
  },
  {
   "cell_type": "code",
   "execution_count": null,
   "id": "6d866b99",
   "metadata": {},
   "outputs": [],
   "source": []
  }
 ],
 "metadata": {
  "kernelspec": {
   "display_name": "Django Shell-Plus",
   "language": "python",
   "name": "django_extensions"
  },
  "language_info": {
   "codemirror_mode": {
    "name": "ipython",
    "version": 3
   },
   "file_extension": ".py",
   "mimetype": "text/x-python",
   "name": "python",
   "nbconvert_exporter": "python",
   "pygments_lexer": "ipython3",
   "version": "3.10.4"
  }
 },
 "nbformat": 4,
 "nbformat_minor": 5
}
