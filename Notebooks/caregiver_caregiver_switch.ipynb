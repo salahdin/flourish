{
 "cells": [
  {
   "cell_type": "code",
   "execution_count": 1,
   "id": "1d3ccbd1",
   "metadata": {},
   "outputs": [],
   "source": [
    "import os\n",
    "import csv\n",
    "os.environ[\"DJANGO_ALLOW_ASYNC_UNSAFE\"] = \"true\"\n",
    "from django.apps import apps as django_apps\n",
    "from edc_base.utils import get_utcnow\n",
    "from flourish_caregiver.helper_classes import CaregiverBiologicalSwitch\n",
    "\n",
    "subject_identifier='C142-040990903-2'\n",
    "switch_cls = CaregiverBiologicalSwitch(caregiver_sid=subject_identifier)"
   ]
  },
  {
   "cell_type": "code",
   "execution_count": 2,
   "id": "5e167293",
   "metadata": {},
   "outputs": [
    {
     "data": {
      "text/plain": [
       "True"
      ]
     },
     "execution_count": 2,
     "metadata": {},
     "output_type": "execute_result"
    }
   ],
   "source": [
    "\"\"\"\n",
    "    Take caregiver offstudy\n",
    "\"\"\"\n",
    "switch_cls.take_caregiver_offstudy(\n",
    "    report_dt=get_utcnow(),\n",
    "    offstudy_dt=get_utcnow().date(),\n",
    "    reason='caregiver_death', )"
   ]
  },
  {
   "cell_type": "code",
   "execution_count": 3,
   "id": "efca8443",
   "metadata": {},
   "outputs": [],
   "source": [
    "\"\"\"\n",
    "    Create a locator instance for the caregiver taking over, with new screening identifier\n",
    "    and update maternal dataset object with identifier.   \n",
    "\"\"\"\n",
    "switch_cls.create_bio_mother_locator(\n",
    "    report_dt=get_utcnow(), signed_dt=get_utcnow().date(), first_name='NEW', last_name='CAREGIVER')"
   ]
  },
  {
   "cell_type": "code",
   "execution_count": 4,
   "id": "13038038",
   "metadata": {},
   "outputs": [
    {
     "data": {
      "text/plain": [
       "'S99ZUXTB'"
      ]
     },
     "execution_count": 4,
     "metadata": {},
     "output_type": "execute_result"
    }
   ],
   "source": [
    "switch_cls.screening_identifier"
   ]
  },
  {
   "cell_type": "code",
   "execution_count": 6,
   "id": "45c2c16f",
   "metadata": {},
   "outputs": [
    {
     "data": {
      "text/plain": [
       "<ScreeningPriorBhpParticipants: S99ZUXTB, 056-4995336-3>"
      ]
     },
     "execution_count": 6,
     "metadata": {},
     "output_type": "execute_result"
    }
   ],
   "source": [
    "\"\"\"\n",
    "    Create an instance of the BHP prior screening for the mother\n",
    "\"\"\"\n",
    "from dateutil.relativedelta import relativedelta\n",
    "from edc_constants.constants import NOT_APPLICABLE, YES, NO, OTHER\n",
    "screening_options = {\n",
    "    'child_alive': YES,\n",
    "    'mother_alive': NO,\n",
    "    'flourish_participation': 'another_caregiver_interested'}\n",
    "switch_cls.create_bio_screening(report_dt=get_utcnow(), **screening_options)"
   ]
  },
  {
   "cell_type": "code",
   "execution_count": 7,
   "id": "79d757b8",
   "metadata": {},
   "outputs": [],
   "source": [
    "\"\"\"\n",
    "    Consent the mother to the study\n",
    "\"\"\"\n",
    "consent_options = {'language': 'en',\n",
    "                    'recruit_source': 'BHP recruiter/clinician',\n",
    "                    'recruitment_clinic': 'Prior',\n",
    "                    'is_literate': YES,\n",
    "                    'dob': get_utcnow() - relativedelta(years=26),\n",
    "                    'is_dob_estimated': NO,\n",
    "                    'citizen': YES,\n",
    "                    'identity': '224422211',\n",
    "                    'identity_type': 'country_id',\n",
    "                    'confirm_identity': '224422211',\n",
    "                    'remain_in_study': YES,\n",
    "                    'hiv_testing': NOT_APPLICABLE,\n",
    "                    'breastfeed_intent': NOT_APPLICABLE,\n",
    "                    'child_consent': YES,\n",
    "                    'future_contact': YES,\n",
    "                    'consent_reviewed': YES,\n",
    "                    'study_questions': YES,\n",
    "                    'assessment_score': YES,\n",
    "                    'consent_signature': YES,\n",
    "                    'consent_copy': YES,\n",
    "                    'consent_datetime': get_utcnow()}\n",
    "switch_cls.create_bio_consent(sid_swap=('C', 'CR'), **consent_options)"
   ]
  },
  {
   "cell_type": "code",
   "execution_count": 8,
   "id": "46be57ae",
   "metadata": {},
   "outputs": [],
   "source": [
    "\"\"\"\n",
    "    Add the child consent to the biological mother, removing it from the caregiver\n",
    "\"\"\"\n",
    "switch_cls.add_child_consent_to_mother()"
   ]
  },
  {
   "cell_type": "code",
   "execution_count": 9,
   "id": "e25bbd45",
   "metadata": {},
   "outputs": [],
   "source": [
    "\"\"\"\n",
    "    Update biological mother's ID to the child's registered subject object\n",
    "\"\"\"\n",
    "switch_cls.update_child_registered_subject()"
   ]
  },
  {
   "cell_type": "code",
   "execution_count": 10,
   "id": "fdcf5be0",
   "metadata": {},
   "outputs": [
    {
     "data": {
      "text/plain": [
       "<CaregiverPreviouslyEnrolled: CR142-040990903-2>"
      ]
     },
     "execution_count": 10,
     "metadata": {},
     "output_type": "execute_result"
    }
   ],
   "source": [
    "\"\"\"\n",
    "    Create instance of the biological mother's previous enrollment information\n",
    "\"\"\"\n",
    "prev_enrol_defaults = {'maternal_prev_enroll': NO, 'relation_to_child': 'aunt'}\n",
    "switch_cls.create_bio_previous_enrol_info(report_dt=get_utcnow(), **prev_enrol_defaults)"
   ]
  },
  {
   "cell_type": "code",
   "execution_count": 12,
   "id": "ac1fd2a6",
   "metadata": {},
   "outputs": [],
   "source": [
    "\"\"\"\n",
    "    Put mother on the enrolment schedule\n",
    "\"\"\"\n",
    "import datetime, pytz\n",
    "onschedule_dt = datetime.datetime(2023, 3, 8)\n",
    "tz = pytz.timezone('Africa/Gaborone')\n",
    "onschedule_dt = tz.localize(onschedule_dt)\n",
    "switch_cls.put_on_enrol_schedule(onschedule_dt=onschedule_dt)"
   ]
  },
  {
   "cell_type": "code",
   "execution_count": 13,
   "id": "4e3848ca",
   "metadata": {},
   "outputs": [],
   "source": [
    "\"\"\"\n",
    "    Put mother on the quarterly schedule, and align window periods to child appointments\n",
    "\"\"\"\n",
    "switch_cls.put_on_quart_schedule(onschedule_dt=onschedule_dt)"
   ]
  },
  {
   "cell_type": "code",
   "execution_count": null,
   "id": "a38b29be",
   "metadata": {},
   "outputs": [],
   "source": []
  }
 ],
 "metadata": {
  "kernelspec": {
   "display_name": "Django Shell-Plus",
   "language": "python",
   "name": "django_extensions"
  },
  "language_info": {
   "codemirror_mode": {
    "name": "ipython",
    "version": 3
   },
   "file_extension": ".py",
   "mimetype": "text/x-python",
   "name": "python",
   "nbconvert_exporter": "python",
   "pygments_lexer": "ipython3",
   "version": "3.6.6"
  }
 },
 "nbformat": 4,
 "nbformat_minor": 5
}
