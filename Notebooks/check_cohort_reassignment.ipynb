{
 "cells": [
  {
   "cell_type": "code",
   "execution_count": 4,
   "id": "1f9190c5",
   "metadata": {},
   "outputs": [],
   "source": [
    "import os \n",
    "os.environ[\"DJANGO_ALLOW_ASYNC_UNSAFE\"] = \"true\"\n",
    "from flourish_caregiver.models.signals import cohort_assigned\n",
    "from edc_base.utils import get_utcnow\n",
    "from tqdm import tqdm"
   ]
  },
  {
   "cell_type": "code",
   "execution_count": 5,
   "id": "c27e23eb",
   "metadata": {},
   "outputs": [
    {
     "name": "stderr",
     "output_type": "stream",
     "text": [
      "100%|██████████| 1140/1140 [01:41<00:00, 11.27it/s]\n"
     ]
    }
   ],
   "source": [
    "reassigned_cohort = {}\n",
    "child_identifiers = CaregiverChildConsent.objects.values_list('subject_identifier', flat=True).distinct()\n",
    "child_identifiers = list(set(child_identifiers))\n",
    "for idx in tqdm(child_identifiers):\n",
    "    childconsent_obj = CaregiverChildConsent.objects.filter(subject_identifier=idx).earliest('consent_datetime')\n",
    "    enrol_cohort = childconsent_obj.cohort\n",
    "    cohort = cohort_assigned(\n",
    "        childconsent_obj.study_child_identifier,\n",
    "        childconsent_obj.child_dob,\n",
    "        childconsent_obj.created.date())\n",
    "\n",
    "    if cohort and enrol_cohort != cohort and cohort != f'{enrol_cohort}_sec':\n",
    "        reassigned_cohort[idx] = [enrol_cohort, cohort]"
   ]
  },
  {
   "cell_type": "code",
   "execution_count": 6,
   "id": "9d73db65",
   "metadata": {},
   "outputs": [
    {
     "data": {
      "text/plain": [
       "{'B142-040990938-8-10': ['cohort_b_sec', 'cohort_c_sec'],\n",
       " 'B142-040990970-1-10': ['cohort_c_sec', 'cohort_b_sec'],\n",
       " 'B142-040990735-8-10': ['cohort_b', 'cohort_a'],\n",
       " 'B142-040990450-4-10': ['cohort_b', 'cohort_a'],\n",
       " 'B142-040990954-5-10': ['cohort_b_sec', 'cohort_c_sec'],\n",
       " 'B142-040990584-0-10': ['cohort_b', 'cohort_a'],\n",
       " 'B142-040991010-5-10': ['cohort_b_sec', 'cohort_c_sec'],\n",
       " 'B142-040990977-6-10': ['cohort_c', 'cohort_b'],\n",
       " 'B142-040990467-8-10': ['cohort_b', 'cohort_a'],\n",
       " 'B142-040990936-2-10': ['cohort_b_sec', 'cohort_c_sec'],\n",
       " 'B142-040990343-1-10': ['cohort_c', 'cohort_b'],\n",
       " 'B142-040990766-3-10': ['cohort_c', 'cohort_b'],\n",
       " 'B142-040990272-2-10': ['cohort_c', 'cohort_b_sec'],\n",
       " 'B142-040990263-1-10': ['cohort_c_sec', 'cohort_b'],\n",
       " 'B142-040991003-0-10': ['cohort_b_sec', 'cohort_c'],\n",
       " 'B142-040990657-4-10': ['cohort_b', 'cohort_a'],\n",
       " 'B142-040990639-2-10': ['cohort_c', 'cohort_b'],\n",
       " 'B142-040990444-7-10': ['cohort_b', 'cohort_a'],\n",
       " 'B142-040990161-7-10': ['cohort_c', 'cohort_b_sec'],\n",
       " 'B142-040990771-3-10': ['cohort_c', 'cohort_b'],\n",
       " 'B142-040990790-3-10': ['cohort_c', 'cohort_b'],\n",
       " 'B142-040990968-5-10': ['cohort_c', 'cohort_b'],\n",
       " 'B142-040990341-5-10': ['cohort_b', 'cohort_c'],\n",
       " 'B142-040990755-6-10': ['cohort_b', 'cohort_c'],\n",
       " 'B142-040990849-7-10': ['cohort_c', 'cohort_b'],\n",
       " 'C142-040990749-9-60': ['cohort_b_sec', 'cohort_c_sec'],\n",
       " 'B142-040990987-5-10': ['cohort_b_sec', 'cohort_c_sec']}"
      ]
     },
     "execution_count": 6,
     "metadata": {},
     "output_type": "execute_result"
    }
   ],
   "source": [
    "reassigned_cohort"
   ]
  },
  {
   "cell_type": "code",
   "execution_count": null,
   "id": "c3bf1f13",
   "metadata": {},
   "outputs": [],
   "source": []
  }
 ],
 "metadata": {
  "kernelspec": {
   "display_name": "Django Shell-Plus",
   "language": "python",
   "name": "django_extensions"
  },
  "language_info": {
   "codemirror_mode": {
    "name": "ipython",
    "version": 3
   },
   "file_extension": ".py",
   "mimetype": "text/x-python",
   "name": "python",
   "nbconvert_exporter": "python",
   "pygments_lexer": "ipython3",
   "version": "3.6.6"
  }
 },
 "nbformat": 4,
 "nbformat_minor": 5
}
