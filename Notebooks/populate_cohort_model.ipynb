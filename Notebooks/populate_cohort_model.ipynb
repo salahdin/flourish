{
 "cells": [
  {
   "cell_type": "code",
   "execution_count": 13,
   "id": "a48485d4",
   "metadata": {},
   "outputs": [],
   "source": [
    "# Imports\n",
    "import os\n",
    "os.environ[\"DJANGO_ALLOW_ASYNC_UNSAFE\"] = \"true\""
   ]
  },
  {
   "cell_type": "code",
   "execution_count": 14,
   "id": "d7a0f9e3",
   "metadata": {},
   "outputs": [],
   "source": [
    "from flourish_caregiver.models import Cohort, CaregiverChildConsent"
   ]
  },
  {
   "cell_type": "code",
   "execution_count": 15,
   "id": "1f48f97d",
   "metadata": {},
   "outputs": [
    {
     "data": {
      "text/plain": [
       "1413"
      ]
     },
     "execution_count": 15,
     "metadata": {},
     "output_type": "execute_result"
    }
   ],
   "source": [
    "# Check if there is a child whose caregiver child consents have 2 different cohorts\n",
    "caregiver_child_consents = CaregiverChildConsent.objects.all()\n",
    "caregiver_child_consents.count()"
   ]
  },
  {
   "cell_type": "code",
   "execution_count": 20,
   "id": "4327aaca",
   "metadata": {},
   "outputs": [
    {
     "name": "stdout",
     "output_type": "stream",
     "text": [
      "(1048, \"Column 'name' cannot be null\") B142-040990562-6-60\n",
      "*************************\n",
      "{'_state': <django.db.models.base.ModelState object at 0x137943c70>,\n",
      " 'assessment_score': None,\n",
      " 'caregiver_visit_count': 3,\n",
      " 'child_age_at_enrollment': Decimal('0.00'),\n",
      " 'child_dob': None,\n",
      " 'child_knows_status': 'N/A',\n",
      " 'child_preg_test': 'N/A',\n",
      " 'child_remain_in_study': 'Yes',\n",
      " 'child_test': 'Yes',\n",
      " 'cohort': None,\n",
      " 'confirm_identity': '',\n",
      " 'consent_copy': None,\n",
      " 'consent_datetime': datetime.datetime(2023, 2, 28, 8, 36, tzinfo=<UTC>),\n",
      " 'consent_reviewed': None,\n",
      " 'consent_signature': None,\n",
      " 'created': datetime.datetime(2023, 2, 28, 9, 11, 56, 126496, tzinfo=<UTC>),\n",
      " 'device_created': '99',\n",
      " 'device_modified': '99',\n",
      " 'dob': None,\n",
      " 'first_name': '',\n",
      " 'future_studies_contact': 'Yes',\n",
      " 'gender': None,\n",
      " 'guardian_name': None,\n",
      " 'hostname_created': 'flourish',\n",
      " 'hostname_modified': 'flourish',\n",
      " 'id': UUID('5f6432ba-afe1-4e7a-a4c8-1565630897db'),\n",
      " 'identity': '',\n",
      " 'identity_type': None,\n",
      " 'ineligibility': '[]',\n",
      " 'initials': None,\n",
      " 'is_dob_estimated': None,\n",
      " 'is_eligible': True,\n",
      " 'is_verified': False,\n",
      " 'is_verified_datetime': None,\n",
      " 'last_name': '',\n",
      " 'modified': datetime.datetime(2023, 2, 28, 9, 11, 56, 126514, tzinfo=<UTC>),\n",
      " 'preg_enroll': True,\n",
      " 'relative_identifier': None,\n",
      " 'revision': '',\n",
      " 'site_id': 40,\n",
      " 'specimen_consent': 'Yes',\n",
      " 'study_child_identifier': None,\n",
      " 'study_questions': None,\n",
      " 'subject_consent_id': UUID('2a40b419-921a-4117-bfd7-f712a1c0e9bc'),\n",
      " 'subject_identifier': 'B142-040990562-6-60',\n",
      " 'subject_type': '',\n",
      " 'user_created': '',\n",
      " 'user_modified': '',\n",
      " 'verified_by': None,\n",
      " 'version': '3'}\n",
      "#########################################\n",
      "(1048, \"Column 'name' cannot be null\") B142-040990272-2-10\n",
      "*************************\n",
      "{'_state': <django.db.models.base.ModelState object at 0x137878640>,\n",
      " 'assessment_score': None,\n",
      " 'caregiver_visit_count': 1,\n",
      " 'child_age_at_enrollment': Decimal('11.30'),\n",
      " 'child_dob': datetime.date(2012, 1, 11),\n",
      " 'child_knows_status': 'N/A',\n",
      " 'child_preg_test': 'N/A',\n",
      " 'child_remain_in_study': 'Yes',\n",
      " 'child_test': 'Yes',\n",
      " 'cohort': None,\n",
      " 'confirm_identity': '234711221',\n",
      " 'consent_copy': None,\n",
      " 'consent_datetime': datetime.datetime(2023, 5, 3, 7, 44, tzinfo=<UTC>),\n",
      " 'consent_reviewed': None,\n",
      " 'consent_signature': None,\n",
      " 'created': datetime.datetime(2023, 5, 3, 7, 55, 41, 692760, tzinfo=<UTC>),\n",
      " 'device_created': '99',\n",
      " 'device_modified': '99',\n",
      " 'dob': None,\n",
      " 'first_name': 'MOPATI',\n",
      " 'future_studies_contact': 'Yes',\n",
      " 'gender': 'M',\n",
      " 'guardian_name': None,\n",
      " 'hostname_created': 'flourish',\n",
      " 'hostname_modified': 'Coulson',\n",
      " 'id': UUID('f8b3f421-b0b4-4f46-9c51-f87f8b9c6f85'),\n",
      " 'identity': '234711221',\n",
      " 'identity_type': 'birth_cert',\n",
      " 'ineligibility': '[]',\n",
      " 'initials': None,\n",
      " 'is_dob_estimated': None,\n",
      " 'is_eligible': True,\n",
      " 'is_verified': False,\n",
      " 'is_verified_datetime': None,\n",
      " 'last_name': 'MASOKO',\n",
      " 'modified': datetime.datetime(2023, 5, 21, 13, 34, 21, 599478, tzinfo=<UTC>),\n",
      " 'preg_enroll': False,\n",
      " 'relative_identifier': 'B142-040990272-2',\n",
      " 'revision': '',\n",
      " 'site_id': 40,\n",
      " 'specimen_consent': 'Yes',\n",
      " 'study_child_identifier': '056-4980643-6-10',\n",
      " 'study_questions': None,\n",
      " 'subject_consent_id': UUID('e8a2da7c-a85a-4997-99f3-b83e4d1ee7a2'),\n",
      " 'subject_identifier': 'B142-040990272-2-10',\n",
      " 'subject_type': '',\n",
      " 'user_created': 'ckgathi',\n",
      " 'user_modified': 'ckgathi',\n",
      " 'verified_by': None,\n",
      " 'version': '3'}\n",
      "#########################################\n",
      "Total created: 0\n",
      "Total failed: 2\n"
     ]
    }
   ],
   "source": [
    "# Populate the cohort model with the cohort name in the caregiver child consent.\n",
    "count = 0\n",
    "failled = 0\n",
    "for consent in caregiver_child_consents:\n",
    "    try:\n",
    "        Cohort.objects.get(subject_identifier=consent.subject_identifier, name=consent.cohort)\n",
    "    except Cohort.DoesNotExist:\n",
    "        try:\n",
    "            Cohort.objects.create(\n",
    "                name=consent.cohort, subject_identifier=consent.subject_identifier,\n",
    "                assign_datetime=consent.created, enrollment_cohort=True\n",
    "            )\n",
    "            count += 1\n",
    "        except Exception as e:\n",
    "            from pprint import pprint\n",
    "            print(e, consent.subject_identifier)\n",
    "            print('*************************')\n",
    "            pprint(consent.__dict__)\n",
    "            print('#########################################')\n",
    "            failled += 1\n",
    "print(f\"Total created: {count}\")\n",
    "print(f\"Total failed: {failled}\")"
   ]
  },
  {
   "cell_type": "code",
   "execution_count": null,
   "id": "a4b6ac44",
   "metadata": {},
   "outputs": [],
   "source": []
  }
 ],
 "metadata": {
  "kernelspec": {
   "display_name": "Django Shell-Plus",
   "language": "python",
   "name": "django_extensions"
  },
  "language_info": {
   "codemirror_mode": {
    "name": "ipython",
    "version": 3
   },
   "file_extension": ".py",
   "mimetype": "text/x-python",
   "name": "python",
   "nbconvert_exporter": "python",
   "pygments_lexer": "ipython3",
   "version": "3.8.9"
  }
 },
 "nbformat": 4,
 "nbformat_minor": 5
}
